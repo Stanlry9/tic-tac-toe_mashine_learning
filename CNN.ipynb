{
 "cells": [
  {
   "cell_type": "code",
   "execution_count": 1,
   "id": "7db2bd09-1350-4b03-9785-e7cd82aef49d",
   "metadata": {},
   "outputs": [],
   "source": [
    "from board import (play_games, play_games_more_stats, play_random_move, play_middle_move, play_score_move, play_scoreV2_move, play_showcase, play_test_game, play_human_game, Board)\n",
    "from DCNN import create_dcnn_player \n",
    "import numpy as np\n",
    "import time\n",
    "import matplotlib.pyplot as plt\n",
    "import keras\n"
   ]
  },
  {
   "cell_type": "code",
   "execution_count": 2,
   "id": "1e879073-05b0-4100-b410-167e34a03b24",
   "metadata": {},
   "outputs": [],
   "source": [
    "model = keras.models.load_model('model_conv_scorev2')\n",
    "play_dcnn_move = create_dcnn_player(model)"
   ]
  },
  {
   "cell_type": "code",
   "execution_count": null,
   "id": "f78a4946-aa6d-4ff7-aac7-a84e53803e21",
   "metadata": {},
   "outputs": [],
   "source": []
  }
 ],
 "metadata": {
  "kernelspec": {
   "display_name": "Python 3 (ipykernel)",
   "language": "python",
   "name": "python3"
  },
  "language_info": {
   "codemirror_mode": {
    "name": "ipython",
    "version": 3
   },
   "file_extension": ".py",
   "mimetype": "text/x-python",
   "name": "python",
   "nbconvert_exporter": "python",
   "pygments_lexer": "ipython3",
   "version": "3.9.13"
  }
 },
 "nbformat": 4,
 "nbformat_minor": 5
}
